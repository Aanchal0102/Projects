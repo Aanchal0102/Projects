{
 "cells": [
  {
   "cell_type": "markdown",
   "id": "f9b77703",
   "metadata": {
    "id": "jGxqF4aIjNSq"
   },
   "source": [
    "<a id='1'></a><center> <h3 style=\"background-color:orange; color:white\" ><br>Python Data Structures<br></h3>"
   ]
  },
  {
   "cell_type": "markdown",
   "id": "23fde58f",
   "metadata": {},
   "source": [
    "# `Types of Data Structures:`\n",
    "* `List` | `Tuple`\n",
    "* `Set` | `Dictionary`"
   ]
  },
  {
   "cell_type": "markdown",
   "id": "f4995372",
   "metadata": {},
   "source": [
    "|Data Structures type|Mutable|Comments|Indexing|Ordered|Duplicacy|\n",
    "|----|----|----|----|----|----|\n",
    "tuple ()|immutable|immutable version of list| possible|yes |allowed |\n",
    "list []|mutable|-|possible |yes | allowed |\n",
    "set {}|mutable| -|not |no |not |\n",
    "dict {key:value}|mutable|-|possible |no |not  |"
   ]
  },
  {
   "cell_type": "markdown",
   "id": "e578c634",
   "metadata": {},
   "source": [
    "💫 `immutable` => `can't be changed` <br>\n",
    "💫 `mutable` => `can be changed`"
   ]
  },
  {
   "cell_type": "code",
   "execution_count": null,
   "id": "86529d39",
   "metadata": {},
   "outputs": [],
   "source": []
  },
  {
   "cell_type": "markdown",
   "id": "4094d2a3",
   "metadata": {
    "id": "Tyavi31ZjNSw"
   },
   "source": [
    "## Lists\n",
    "\n"
   ]
  },
  {
   "cell_type": "markdown",
   "id": "90000beb",
   "metadata": {
    "id": "tkDQdRdUjNSy"
   },
   "source": [
    "### Create an empty list with the name ‘a’, print the value of a and type(a).\n"
   ]
  },
  {
   "cell_type": "code",
   "execution_count": 2,
   "id": "d975dff2",
   "metadata": {
    "id": "a6i4yNGvjNSz"
   },
   "outputs": [],
   "source": [
    "# create empty list, name it 'a'\n",
    "\n",
    "languages = []\n",
    "languages.append('R')\n",
    "languages.append('Python')\n",
    "languages.append('SAS')\n",
    "languages.append('Scala')\n",
    "languages.append(42)"
   ]
  },
  {
   "cell_type": "code",
   "execution_count": 5,
   "id": "b13f342f",
   "metadata": {
    "id": "M8FMNQEgjNS0",
    "outputId": "e614518d-cd99-4602-c082-7fcc1f9a0e3a"
   },
   "outputs": [
    {
     "name": "stdout",
     "output_type": "stream",
     "text": [
      "Aanchal\n"
     ]
    }
   ],
   "source": [
    "# print the value of a\n",
    "\n",
    "a = \"Aanchal\"\n",
    "print (a)"
   ]
  },
  {
   "cell_type": "code",
   "execution_count": 7,
   "id": "f9fbbf60",
   "metadata": {
    "id": "Jfc9sg1vjNS1",
    "outputId": "462464e7-25c1-4a23-80cb-f8c6cf93fb18"
   },
   "outputs": [
    {
     "data": {
      "text/plain": [
       "str"
      ]
     },
     "execution_count": 7,
     "metadata": {},
     "output_type": "execute_result"
    }
   ],
   "source": [
    "# print the type of a\n",
    "\n",
    "a = \"Aanchal\"\n",
    "type(a)"
   ]
  },
  {
   "cell_type": "markdown",
   "id": "9e510983",
   "metadata": {
    "id": "UNpN9_w4jNS1"
   },
   "source": [
    "### Create a list , languages = ['R','Python', 'SAS', 'Scala', 42], "
   ]
  },
  {
   "cell_type": "code",
   "execution_count": 15,
   "id": "eaf6f469",
   "metadata": {
    "id": "x-TG-vc5jNS2"
   },
   "outputs": [
    {
     "name": "stdout",
     "output_type": "stream",
     "text": [
      "5\n"
     ]
    }
   ],
   "source": [
    "languages = ['R','Python', 'SAS', 'Scala', 42]\n",
    "print(len(languages))"
   ]
  },
  {
   "cell_type": "markdown",
   "id": "f7d8073c",
   "metadata": {
    "id": "JDSIK8TbjNS3"
   },
   "source": [
    "Print the number of elements in the list"
   ]
  },
  {
   "cell_type": "markdown",
   "id": "ce694846",
   "metadata": {
    "id": "EyzO_pcnjNS3"
   },
   "source": [
    "Using for loop iterate and print all the elements in the list"
   ]
  },
  {
   "cell_type": "code",
   "execution_count": 17,
   "id": "22ce3fd9",
   "metadata": {
    "id": "TyM54ydsjNS4",
    "outputId": "a83aecf6-2a59-4d56-ee29-d0c3f0711bc4"
   },
   "outputs": [
    {
     "name": "stdout",
     "output_type": "stream",
     "text": [
      "R\n",
      "Python\n",
      "SAS\n",
      "Scala\n",
      "42\n"
     ]
    }
   ],
   "source": [
    "languages = ['R', 'Python', 'SAS', 'Scala', 42]\n",
    "\n",
    "# Using for loop to iterate and print elements\n",
    "for language in languages:\n",
    "    print(language)\n",
    "\n"
   ]
  },
  {
   "cell_type": "markdown",
   "id": "cb95737a",
   "metadata": {
    "id": "eC1fqz9LjNS4"
   },
   "source": [
    "Select the second item, 'Python' and store it in a new variable named 'temp'"
   ]
  },
  {
   "cell_type": "code",
   "execution_count": 19,
   "id": "faf3a9c7",
   "metadata": {
    "id": "KY0KhRlOjNS4"
   },
   "outputs": [
    {
     "name": "stdout",
     "output_type": "stream",
     "text": [
      "Python\n"
     ]
    }
   ],
   "source": [
    "languages = ['R', 'Python', 'SAS', 'Scala', 42]\n",
    "\n",
    "# Select the second item and store it in 'temp'\n",
    "temp = languages[1]\n",
    "\n",
    "print(temp)"
   ]
  },
  {
   "cell_type": "markdown",
   "id": "171e0b71",
   "metadata": {
    "id": "breORMa_jNS4"
   },
   "source": [
    "Print the value of temp and type(temp)"
   ]
  },
  {
   "cell_type": "code",
   "execution_count": 21,
   "id": "ed9d7c24",
   "metadata": {
    "id": "MbvX2aIgjNS5",
    "outputId": "f8ec4c46-26d8-4822-c3c7-b18a6cc7f149"
   },
   "outputs": [
    {
     "name": "stdout",
     "output_type": "stream",
     "text": [
      "Value of temp: Python\n",
      "Type of temp: <class 'str'>\n"
     ]
    }
   ],
   "source": [
    "languages = ['R', 'Python', 'SAS', 'Scala', 42]\n",
    "\n",
    "# Select the second item and store it in 'temp'\n",
    "temp = languages[1]\n",
    "\n",
    "# Print the value of temp\n",
    "print(\"Value of temp:\", temp)\n",
    "\n",
    "# Print the type of temp\n",
    "print(\"Type of temp:\", type(temp))\n",
    "\n"
   ]
  },
  {
   "cell_type": "markdown",
   "id": "89e7f885",
   "metadata": {
    "id": "I4MrKlAUjNS5"
   },
   "source": [
    "Append the element 'Java' in the list"
   ]
  },
  {
   "cell_type": "code",
   "execution_count": 23,
   "id": "dc6c4063",
   "metadata": {
    "id": "rOtqZY6PjNS6"
   },
   "outputs": [
    {
     "name": "stdout",
     "output_type": "stream",
     "text": [
      "['R', 'Python', 'SAS', 'Scala', 42, 'Java']\n"
     ]
    }
   ],
   "source": [
    "\n",
    "languages = ['R', 'Python', 'SAS', 'Scala', 42]\n",
    "\n",
    "# Append 'Java' to the list\n",
    "languages.append('Java')\n",
    "\n",
    "# Print the updated list\n",
    "print(languages)"
   ]
  },
  {
   "cell_type": "markdown",
   "id": "b377f174",
   "metadata": {
    "id": "ksEn8qvFjNS6"
   },
   "source": [
    "Remove the element 42 from the list and print the list"
   ]
  },
  {
   "cell_type": "code",
   "execution_count": 31,
   "id": "921e510b",
   "metadata": {
    "id": "Lxuzfc1bjNS6",
    "outputId": "71e5abaf-0020-44d5-af96-9b6f832ce001"
   },
   "outputs": [
    {
     "name": "stdout",
     "output_type": "stream",
     "text": [
      "['R', 'Python', 'SAS', 'Scala', 'Java']\n"
     ]
    }
   ],
   "source": [
    "\n",
    "\n",
    "languages = ['R', 'Python', 'SAS', 'Scala', 42, 'Java']\n",
    "\n",
    "# Remove 42 from the list\n",
    "languages.remove(42)\n",
    "\n",
    "# Print the updated list\n",
    "print(languages)"
   ]
  },
  {
   "cell_type": "markdown",
   "id": "8e7a2a0d",
   "metadata": {
    "id": "19MjI0w6jNS6"
   },
   "source": [
    "### Create a list, colors = [‘Red’, ‘Blue’, ‘White’]"
   ]
  },
  {
   "cell_type": "code",
   "execution_count": 39,
   "id": "36a06c24",
   "metadata": {
    "id": "Z1lMzdbWjNS7"
   },
   "outputs": [
    {
     "name": "stdout",
     "output_type": "stream",
     "text": [
      "['Red', 'Blue', 'White']\n"
     ]
    }
   ],
   "source": [
    "colors = list(['Red', 'Blue', 'White'])\n",
    "\n",
    "print (colors)"
   ]
  },
  {
   "cell_type": "markdown",
   "id": "9b7c4946",
   "metadata": {
    "id": "VAqLj5R3jNS7"
   },
   "source": [
    "Append the element 'Black' to colors"
   ]
  },
  {
   "cell_type": "code",
   "execution_count": 41,
   "id": "ab0aeba0",
   "metadata": {
    "id": "gvb5iC7ljNS7"
   },
   "outputs": [
    {
     "name": "stdout",
     "output_type": "stream",
     "text": [
      "['Red', 'Blue', 'White', 'Black']\n"
     ]
    }
   ],
   "source": [
    "\n",
    "colors = ['Red', 'Blue', 'White']\n",
    "\n",
    "# Append 'Black' to the list\n",
    "colors.append('Black')\n",
    "\n",
    "# Print the updated list\n",
    "print(colors)\n"
   ]
  },
  {
   "cell_type": "markdown",
   "id": "d153c3cf",
   "metadata": {
    "id": "MFWIzVcvjNS7"
   },
   "source": [
    "Append the color 'Orange' to second position (index=1) and print the list"
   ]
  },
  {
   "cell_type": "code",
   "execution_count": 43,
   "id": "3f8022c9",
   "metadata": {
    "id": "Fb6YZDSNjNS8"
   },
   "outputs": [
    {
     "name": "stdout",
     "output_type": "stream",
     "text": [
      "['Red', 'Orange', 'Blue', 'White', 'Black']\n"
     ]
    }
   ],
   "source": [
    "colors = ['Red', 'Blue', 'White', 'Black']\n",
    "\n",
    "# Insert 'Orange' at index 1\n",
    "colors.insert(1, 'Orange')\n",
    "\n",
    "# Print the updated list\n",
    "print(colors)\n",
    "\n"
   ]
  },
  {
   "cell_type": "markdown",
   "id": "34c23471",
   "metadata": {
    "id": "8DWB76AOjNS8"
   },
   "source": [
    "Print the list\n"
   ]
  },
  {
   "cell_type": "markdown",
   "id": "36b9f5cb",
   "metadata": {
    "id": "WfFfxvLKjNS8"
   },
   "source": [
    "Create another list, colors2 = [‘Grey’, ‘Sky Blue’]"
   ]
  },
  {
   "cell_type": "code",
   "execution_count": 49,
   "id": "02df2399",
   "metadata": {
    "id": "onZEiwdUjNS8"
   },
   "outputs": [
    {
     "name": "stdout",
     "output_type": "stream",
     "text": [
      "['Grey', 'Sky Blue']\n"
     ]
    }
   ],
   "source": [
    "colors2 = ['Grey', 'Sky Blue']\n",
    "\n",
    "print(colors2)"
   ]
  },
  {
   "cell_type": "markdown",
   "id": "b667bffe",
   "metadata": {
    "id": "MrNQk6uKjNS8"
   },
   "source": [
    "Add the elements of colors2 to colors using extend function in the list"
   ]
  },
  {
   "cell_type": "code",
   "execution_count": 51,
   "id": "27ec057d",
   "metadata": {
    "id": "Hr1Eu88OjNS9"
   },
   "outputs": [
    {
     "name": "stdout",
     "output_type": "stream",
     "text": [
      "['Red', 'Orange', 'Blue', 'White', 'Black', 'Grey', 'Sky Blue']\n"
     ]
    }
   ],
   "source": [
    "colors = ['Red', 'Orange', 'Blue', 'White', 'Black']\n",
    "colors2 = ['Grey', 'Sky Blue']\n",
    "\n",
    "# Extend colors with colors2\n",
    "colors.extend(colors2)\n",
    "\n",
    "# Print the updated list\n",
    "print(colors)"
   ]
  },
  {
   "cell_type": "markdown",
   "id": "120c2275",
   "metadata": {
    "id": "u0KDeU20jNS9"
   },
   "source": [
    "Print len of colors and its elements"
   ]
  },
  {
   "cell_type": "code",
   "execution_count": 53,
   "id": "1da46a88",
   "metadata": {
    "id": "bnBmsCg2jNS9",
    "outputId": "f126519a-bafd-4438-fe21-af7586b5740d"
   },
   "outputs": [
    {
     "name": "stdout",
     "output_type": "stream",
     "text": [
      "Length of colors: 7\n",
      "Elements of colors: ['Red', 'Orange', 'Blue', 'White', 'Black', 'Grey', 'Sky Blue']\n"
     ]
    }
   ],
   "source": [
    "\n",
    "colors = ['Red', 'Orange', 'Blue', 'White', 'Black', 'Grey', 'Sky Blue']\n",
    "\n",
    "# Print the length of colors\n",
    "print(\"Length of colors:\", len(colors))\n",
    "\n",
    "# Print the elements of colors\n",
    "print(\"Elements of colors:\", colors)\n"
   ]
  },
  {
   "cell_type": "markdown",
   "id": "0c5c5791",
   "metadata": {
    "id": "vJ7YqokSjNS9"
   },
   "source": [
    "Sort the list and print it."
   ]
  },
  {
   "cell_type": "code",
   "execution_count": 55,
   "id": "c8763a01",
   "metadata": {
    "id": "X14C-1PtjNS9",
    "outputId": "02524dae-3592-47e2-98b0-77501aa15b64"
   },
   "outputs": [
    {
     "name": "stdout",
     "output_type": "stream",
     "text": [
      "Sorted colors: ['Black', 'Blue', 'Grey', 'Orange', 'Red', 'Sky Blue', 'White']\n"
     ]
    }
   ],
   "source": [
    "\n",
    "colors = ['Red', 'Orange', 'Blue', 'White', 'Black', 'Grey', 'Sky Blue']\n",
    "\n",
    "# Sort the list\n",
    "colors.sort()\n",
    "\n",
    "# Print the sorted list\n",
    "print(\"Sorted colors:\", colors)\n"
   ]
  },
  {
   "cell_type": "markdown",
   "id": "9a470bc8",
   "metadata": {
    "id": "MdN5B9F9jNS-"
   },
   "source": [
    "### Create a string, sent = ‘Coronavirus Caused Lockdowns Around The World.”"
   ]
  },
  {
   "cell_type": "code",
   "execution_count": 57,
   "id": "861bf668",
   "metadata": {
    "id": "j4JUR085jNS-"
   },
   "outputs": [],
   "source": [
    "sent = 'Coronavirus Caused Lockdowns Around The World.'"
   ]
  },
  {
   "cell_type": "markdown",
   "id": "749d7af4",
   "metadata": {
    "id": "rcn18drOjNS-"
   },
   "source": [
    "Use split function to convert the string into a list of words and save it in variable words and print the same"
   ]
  },
  {
   "cell_type": "code",
   "execution_count": 59,
   "id": "926229fc",
   "metadata": {
    "id": "fjiKSboajNS-",
    "outputId": "b6bfb22e-147a-4d90-9428-d321d9824589"
   },
   "outputs": [
    {
     "name": "stdout",
     "output_type": "stream",
     "text": [
      "List of words: ['Coronavirus', 'Caused', 'Lockdowns', 'Around', 'The', 'World.']\n"
     ]
    }
   ],
   "source": [
    "\n",
    "\n",
    "sent = 'Coronavirus Caused Lockdowns Around The World.'\n",
    "\n",
    "# Split the string into a list of words\n",
    "words = sent.split()\n",
    "\n",
    "# Print the list of words\n",
    "print(\"List of words:\", words)"
   ]
  },
  {
   "cell_type": "markdown",
   "id": "2f40fab5",
   "metadata": {
    "id": "rowxhN26jNS_"
   },
   "source": [
    "Convert each word in the list to lower case and store it in variable words_lower. \n",
    "Print words_lower"
   ]
  },
  {
   "cell_type": "code",
   "execution_count": 61,
   "id": "61c419fd",
   "metadata": {
    "id": "LuzAECOVjNS_",
    "outputId": "d2c5bbbe-af46-4659-fdcb-d5de59d24099"
   },
   "outputs": [
    {
     "name": "stdout",
     "output_type": "stream",
     "text": [
      "List of words in lower case: ['coronavirus', 'caused', 'lockdowns', 'around', 'the', 'world.']\n"
     ]
    }
   ],
   "source": [
    "sent = 'Coronavirus Caused Lockdowns Around The World.'\n",
    "\n",
    "# Split the string into a list of words\n",
    "words = sent.split()\n",
    "\n",
    "# Convert each word to lower case and store in words_lower\n",
    "words_lower = [word.lower() for word in words]\n",
    "\n",
    "# Print the list of words in lower case\n",
    "print(\"List of words in lower case:\", words_lower)\n",
    "\n"
   ]
  },
  {
   "cell_type": "markdown",
   "id": "a041e069",
   "metadata": {
    "id": "zznwP-l9jNS_"
   },
   "source": [
    "Check whether ‘country’ is in the list"
   ]
  },
  {
   "cell_type": "code",
   "execution_count": 63,
   "id": "1b8b5ef7",
   "metadata": {
    "id": "y-U1felnjNS_",
    "outputId": "1e5fb9dd-4add-4438-97da-60db75ce0fce"
   },
   "outputs": [
    {
     "name": "stdout",
     "output_type": "stream",
     "text": [
      "'Country' is not in the list.\n"
     ]
    }
   ],
   "source": [
    "sent = 'Coronavirus Caused Lockdowns Around The World.'\n",
    "\n",
    "# Split the string into a list of words\n",
    "words = sent.split()\n",
    "\n",
    "# Check if 'country' is in the list\n",
    "if 'country' in words:\n",
    "    print(\"'Country' is in the list.\")\n",
    "else:\n",
    "    print(\"'Country' is not in the list.\")\n",
    "    "
   ]
  },
  {
   "cell_type": "markdown",
   "id": "9905bac6",
   "metadata": {
    "id": "AZMvSVKWjNS_"
   },
   "source": [
    "Remove the element ‘the’ from the list and print the list."
   ]
  },
  {
   "cell_type": "code",
   "execution_count": 73,
   "id": "c440b1aa",
   "metadata": {
    "id": "bmDbpYd7jNS_",
    "outputId": "e96ddeed-af03-4d0c-a7dd-6c7a716e349a"
   },
   "outputs": [
    {
     "name": "stdout",
     "output_type": "stream",
     "text": [
      "Updated list: ['Coronavirus', 'Caused', 'Lockdowns', 'Around', 'World.']\n"
     ]
    }
   ],
   "source": [
    "sent = 'Coronavirus Caused Lockdowns Around The World.'\n",
    "\n",
    "# Split the string into a list of words\n",
    "words = sent.split()\n",
    "\n",
    "# Remove 'the' from the list\n",
    "words = [word for word in words if word.lower() != 'the']\n",
    "\n",
    "# Print the updated list\n",
    "print(\"Updated list:\", words)\n"
   ]
  },
  {
   "cell_type": "markdown",
   "id": "4abbbec5",
   "metadata": {
    "id": "int3gJc0jNS_"
   },
   "source": [
    "Select the first 4 words from the list words_lower using slicing and store them in a new variable x4"
   ]
  },
  {
   "cell_type": "code",
   "execution_count": 75,
   "id": "6fbba9e3",
   "metadata": {
    "id": "fXOJmYI1jNTA"
   },
   "outputs": [
    {
     "name": "stdout",
     "output_type": "stream",
     "text": [
      "First 4 words: ['coronavirus', 'caused', 'lockdowns', 'around']\n"
     ]
    }
   ],
   "source": [
    "sent = 'Coronavirus Caused Lockdowns Around The World.'\n",
    "\n",
    "# Split the string into a list of words\n",
    "words = sent.split()\n",
    "\n",
    "# Convert each word to lower case\n",
    "words_lower = [word.lower() for word in words]\n",
    "\n",
    "# Select the first 4 words using slicing\n",
    "x4 = words_lower[:4]\n",
    "\n",
    "# Print the selected words\n",
    "print(\"First 4 words:\", x4)"
   ]
  },
  {
   "cell_type": "markdown",
   "id": "4db6d748",
   "metadata": {
    "id": "3HgP3nUmjNTA"
   },
   "source": [
    "Convert the list of elements to single string using join function and print it"
   ]
  },
  {
   "cell_type": "code",
   "execution_count": 79,
   "id": "d59d762b",
   "metadata": {
    "id": "hiXO7ekhjNTA",
    "outputId": "db0f6673-174f-4bee-f6c5-c7e7d4f4612b"
   },
   "outputs": [
    {
     "name": "stdout",
     "output_type": "stream",
     "text": [
      "Joined string: coronavirus caused lockdowns around\n"
     ]
    }
   ],
   "source": [
    "# Join the elements of x4 into a single string\n",
    "x4_str = ' '.join(x4)\n",
    "\n",
    "# Print the resulting string\n",
    "print(\"Joined string:\", x4_str)\n"
   ]
  },
  {
   "cell_type": "markdown",
   "id": "0040ab6c",
   "metadata": {
    "id": "tW6We_kvjNTA"
   },
   "source": [
    "## Sets"
   ]
  },
  {
   "cell_type": "markdown",
   "id": "82d55164",
   "metadata": {
    "id": "02qkte5xjNTA"
   },
   "source": [
    "### Create stud_grades = ['A','A','B','C','C','F']"
   ]
  },
  {
   "cell_type": "code",
   "execution_count": 81,
   "id": "60b72a79",
   "metadata": {
    "id": "M5P_qZaTjNTB"
   },
   "outputs": [],
   "source": [
    "stud_grades = ['A', 'A', 'B', 'C', 'C', 'F']\n"
   ]
  },
  {
   "cell_type": "markdown",
   "id": "0f06d672",
   "metadata": {
    "id": "XazCnMcBjNTB"
   },
   "source": [
    "Print the len of stud_grades"
   ]
  },
  {
   "cell_type": "code",
   "execution_count": 83,
   "id": "52fae89a",
   "metadata": {
    "id": "gMMJN-V5jNTB",
    "outputId": "ae1dee90-d009-4230-b7ae-8ea1ee32cbfa"
   },
   "outputs": [
    {
     "name": "stdout",
     "output_type": "stream",
     "text": [
      "Number of grades: 6\n"
     ]
    }
   ],
   "source": [
    "\n",
    "stud_grades = ['A', 'A', 'B', 'C', 'C', 'F']\n",
    "\n",
    "# Print the length of the list\n",
    "print(\"Number of grades:\", len(stud_grades))\n"
   ]
  },
  {
   "cell_type": "markdown",
   "id": "07731766",
   "metadata": {
    "id": "ALm7hstGjNTB"
   },
   "source": [
    "Create a new variable, stud_grades_set = set(stud_grades)"
   ]
  },
  {
   "cell_type": "markdown",
   "id": "33c7ffdb",
   "metadata": {
    "id": "JJESkQiJjNTB"
   },
   "source": [
    "Print stud_grades_set. "
   ]
  },
  {
   "cell_type": "code",
   "execution_count": null,
   "id": "2a3d6df9-9467-457d-91e6-f3f9f2b38836",
   "metadata": {},
   "outputs": [],
   "source": [
    "stud_grades = ['A', 'A', 'B', 'C', 'C', 'F']\n",
    "\n",
    "# Create a set from the list\n",
    "stud_grades_set = set(stud_grades)\n",
    "\n",
    "# Print the set\n",
    "print(\"Set of grades:\", stud_grades_set)"
   ]
  },
  {
   "cell_type": "markdown",
   "id": "71a6d581",
   "metadata": {
    "id": "hNeCPwPOjNTC"
   },
   "source": [
    "print the type of stud_grades and stud_grades_set and print their corresponding elements. Try to understand the difference between them."
   ]
  },
  {
   "cell_type": "code",
   "execution_count": 91,
   "id": "f53c0a2b",
   "metadata": {
    "id": "g7cntC0ojNTC",
    "outputId": "881a71e0-fd7e-4a3e-c340-95b6e736255a"
   },
   "outputs": [
    {
     "name": "stdout",
     "output_type": "stream",
     "text": [
      "Type of stud_grades: <class 'list'>\n",
      "Type of stud_grades_set: <class 'set'>\n",
      "Elements of stud_grades: ['A', 'A', 'B', 'C', 'C', 'F']\n",
      "Elements of stud_grades_set: {'F', 'C', 'A', 'B'}\n"
     ]
    }
   ],
   "source": [
    "\n",
    "stud_grades = ['A', 'A', 'B', 'C', 'C', 'F']\n",
    "stud_grades_set = set(stud_grades)\n",
    "\n",
    "# Print the types\n",
    "print(\"Type of stud_grades:\", type(stud_grades))\n",
    "print(\"Type of stud_grades_set:\", type(stud_grades_set))\n",
    "\n",
    "# Print the elements\n",
    "print(\"Elements of stud_grades:\", stud_grades)\n",
    "print(\"Elements of stud_grades_set:\", stud_grades_set)\n",
    "\n"
   ]
  },
  {
   "cell_type": "markdown",
   "id": "2a937402",
   "metadata": {
    "id": "WjzzJX8yjNTC"
   },
   "source": [
    "Add a new element ‘G’ to stud_grades_set"
   ]
  },
  {
   "cell_type": "code",
   "execution_count": 93,
   "id": "e49e0937",
   "metadata": {
    "id": "y80DVAlRjNTC"
   },
   "outputs": [
    {
     "name": "stdout",
     "output_type": "stream",
     "text": [
      "Updated stud_grades_set: {'A', 'C', 'F', 'G', 'B'}\n"
     ]
    }
   ],
   "source": [
    "\n",
    "stud_grades = ['A', 'A', 'B', 'C', 'C', 'F']\n",
    "stud_grades_set = set(stud_grades)\n",
    "\n",
    "# Add a new element 'G' to the set\n",
    "stud_grades_set.add('G')\n",
    "\n",
    "# Print the updated set\n",
    "print(\"Updated stud_grades_set:\", stud_grades_set)"
   ]
  },
  {
   "cell_type": "markdown",
   "id": "e47d988b",
   "metadata": {
    "id": "4TO9zhSJjNTC"
   },
   "source": [
    "Add element 'F' to stud_grades_set. and print it."
   ]
  },
  {
   "cell_type": "code",
   "execution_count": 95,
   "id": "6b0172e7",
   "metadata": {
    "id": "Bh4tc1zCjNTC",
    "outputId": "67cdce79-7542-4536-8824-7c3f08855f76"
   },
   "outputs": [
    {
     "name": "stdout",
     "output_type": "stream",
     "text": [
      "Updated stud_grades_set: {'F', 'C', 'A', 'B'}\n"
     ]
    }
   ],
   "source": [
    "stud_grades = ['A', 'A', 'B', 'C', 'C', 'F']\n",
    "stud_grades_set = set(stud_grades)\n",
    "\n",
    "# Add element 'F' to the set\n",
    "stud_grades_set.add('F')\n",
    "\n",
    "# Print the updated set\n",
    "print(\"Updated stud_grades_set:\", stud_grades_set)\n",
    "\n"
   ]
  },
  {
   "cell_type": "markdown",
   "id": "d8006ec0",
   "metadata": {
    "id": "FSgM3DD5jNTD"
   },
   "source": [
    "!!Did you notice? set doesn't add an element if it's already present in it, unlike lists."
   ]
  },
  {
   "cell_type": "markdown",
   "id": "5296c833",
   "metadata": {
    "id": "tqz1GBM5jNTD"
   },
   "source": [
    "Remove ‘F’ from stud_grades_set"
   ]
  },
  {
   "cell_type": "code",
   "execution_count": 97,
   "id": "d88c719f",
   "metadata": {
    "id": "zOLBDdk0jNTD"
   },
   "outputs": [
    {
     "name": "stdout",
     "output_type": "stream",
     "text": [
      "Updated stud_grades_set: {'C', 'A', 'B'}\n"
     ]
    }
   ],
   "source": [
    "stud_grades = ['A', 'A', 'B', 'C', 'C', 'F']\n",
    "stud_grades_set = set(stud_grades)\n",
    "\n",
    "# Remove 'F' from the set\n",
    "stud_grades_set.remove('F')\n",
    "\n",
    "# Print the updated set\n",
    "print(\"Updated stud_grades_set:\", stud_grades_set)\n",
    "\n"
   ]
  },
  {
   "cell_type": "markdown",
   "id": "f33b13a4",
   "metadata": {
    "id": "wxMXywoRjNTD"
   },
   "source": [
    "Print the elements and the length of stud_grades_set"
   ]
  },
  {
   "cell_type": "code",
   "execution_count": 101,
   "id": "1de8312b",
   "metadata": {
    "id": "lS582g27jNTD",
    "outputId": "03e846de-16c3-4f74-caf5-b11bb2519b91"
   },
   "outputs": [
    {
     "name": "stdout",
     "output_type": "stream",
     "text": [
      "Elements of stud_grades_set: {'C', 'A', 'B'}\n",
      "Length of stud_grades_set: 3\n"
     ]
    }
   ],
   "source": [
    "stud_grades = ['A', 'A', 'B', 'C', 'C', 'F']\n",
    "stud_grades_set = set(stud_grades)\n",
    "\n",
    "# Remove 'F' from the set\n",
    "stud_grades_set.remove('F')\n",
    "\n",
    "# Print the elements and length of the set\n",
    "print(\"Elements of stud_grades_set:\", stud_grades_set)\n",
    "print(\"Length of stud_grades_set:\", len(stud_grades_set))\n",
    "\n"
   ]
  },
  {
   "cell_type": "markdown",
   "id": "21c40302",
   "metadata": {
    "id": "FctCYkNBjNTD"
   },
   "source": [
    "### Create colors = [‘red’,’blue’,’orange’], and fruits = [‘orange’,’grapes’,’apples’] "
   ]
  },
  {
   "cell_type": "code",
   "execution_count": null,
   "id": "9a0cb52b",
   "metadata": {},
   "outputs": [],
   "source": [
    "colors = ['red', 'blue', 'orange']\n",
    "fruits = ['orange', 'grapes', 'apples']"
   ]
  },
  {
   "cell_type": "markdown",
   "id": "0693f26a",
   "metadata": {
    "id": "kfIRtvphjNTE"
   },
   "source": [
    "Print color and fruits"
   ]
  },
  {
   "cell_type": "code",
   "execution_count": 111,
   "id": "7e038cfb",
   "metadata": {
    "id": "q-gavK0-jNTE",
    "outputId": "6e0c3843-3efe-4e88-8a19-616e2cf4bdb3"
   },
   "outputs": [
    {
     "name": "stdout",
     "output_type": "stream",
     "text": [
      "['red', 'blue', 'orange'] ['orange', 'grapes', 'apples']\n"
     ]
    }
   ],
   "source": [
    "colors = ['red', 'blue', 'orange']\n",
    "fruits = ['orange', 'grapes', 'apples']\n",
    "\n",
    "print (colors, fruits) \n",
    "\n"
   ]
  },
  {
   "cell_type": "markdown",
   "id": "ca151621",
   "metadata": {
    "id": "uMOTrWwSjNTE"
   },
   "source": [
    "Create colors_set, and fruits_set. (using set() ) and print them"
   ]
  },
  {
   "cell_type": "code",
   "execution_count": 113,
   "id": "d3e594b6",
   "metadata": {},
   "outputs": [
    {
     "name": "stdout",
     "output_type": "stream",
     "text": [
      "Colors Set: {'blue', 'orange', 'red'}\n",
      "Fruits Set: {'apples', 'orange', 'grapes'}\n"
     ]
    }
   ],
   "source": [
    "colors = ['red', 'blue', 'orange']\n",
    "fruits = ['orange', 'grapes', 'apples']\n",
    "\n",
    "# Create sets from the lists\n",
    "colors_set = set(colors)\n",
    "fruits_set = set(fruits)\n",
    "\n",
    "# Print the sets\n",
    "print(\"Colors Set:\", colors_set)\n",
    "print(\"Fruits Set:\", fruits_set)"
   ]
  },
  {
   "cell_type": "markdown",
   "id": "42b7851c",
   "metadata": {
    "id": "tW9fj0R1jNTE"
   },
   "source": [
    "Find the union of both the sets."
   ]
  },
  {
   "cell_type": "code",
   "execution_count": 115,
   "id": "de682e91",
   "metadata": {
    "id": "oyskI_CTjNTE",
    "outputId": "4e89c025-10ef-405c-cbd4-f8c1ae2f92b4"
   },
   "outputs": [
    {
     "name": "stdout",
     "output_type": "stream",
     "text": [
      "Union using | operator: {'apples', 'orange', 'grapes', 'red', 'blue'}\n",
      "Union using union() method: {'apples', 'orange', 'grapes', 'red', 'blue'}\n"
     ]
    }
   ],
   "source": [
    "\n",
    "colors = ['red', 'blue', 'orange']\n",
    "fruits = ['orange', 'grapes', 'apples']\n",
    "\n",
    "# Create sets from the lists\n",
    "colors_set = set(colors)\n",
    "fruits_set = set(fruits)\n",
    "\n",
    "# Find the union using | operator\n",
    "union_using_operator = colors_set | fruits_set\n",
    "\n",
    "# Find the union using union() method\n",
    "union_using_method = colors_set.union(fruits_set)\n",
    "\n",
    "# Print the unions\n",
    "print(\"Union using | operator:\", union_using_operator)\n",
    "print(\"Union using union() method:\", union_using_method)\n"
   ]
  },
  {
   "cell_type": "markdown",
   "id": "d1ea6bb5",
   "metadata": {
    "id": "3yXYgYBLjNTF"
   },
   "source": [
    "Find the intersection of both the sets "
   ]
  },
  {
   "cell_type": "code",
   "execution_count": 117,
   "id": "f42b733e",
   "metadata": {
    "id": "3AzYqu5sjNTF",
    "outputId": "01ae145a-f15b-4a20-b9bc-9d8a25cf1679"
   },
   "outputs": [
    {
     "name": "stdout",
     "output_type": "stream",
     "text": [
      "Intersection using & operator: {'orange'}\n",
      "Intersection using intersection() method: {'orange'}\n"
     ]
    }
   ],
   "source": [
    "colors = ['red', 'blue', 'orange']\n",
    "fruits = ['orange', 'grapes', 'apples']\n",
    "\n",
    "# Create sets from the lists\n",
    "colors_set = set(colors)\n",
    "fruits_set = set(fruits)\n",
    "\n",
    "# Find the intersection using & operator\n",
    "intersection_using_operator = colors_set & fruits_set\n",
    "\n",
    "# Find the intersection using intersection() method\n",
    "intersection_using_method = colors_set.intersection(fruits_set)\n",
    "\n",
    "# Print the intersections\n",
    "print(\"Intersection using & operator:\", intersection_using_operator)\n",
    "print(\"Intersection using intersection() method:\", intersection_using_method)\n",
    "\n"
   ]
  },
  {
   "cell_type": "markdown",
   "id": "b48b8339",
   "metadata": {
    "id": "PuhlSjH_jNTF"
   },
   "source": [
    "Find the elements which are Fruits but not colors (using set.difference() )"
   ]
  },
  {
   "cell_type": "code",
   "execution_count": 119,
   "id": "d313da4b",
   "metadata": {
    "id": "gBaxHXrfjNTF",
    "outputId": "2178193f-aae5-4e59-acc1-8bce28e28143"
   },
   "outputs": [
    {
     "name": "stdout",
     "output_type": "stream",
     "text": [
      "Fruits that are not colors: {'apples', 'grapes'}\n"
     ]
    }
   ],
   "source": [
    "\n",
    "\n",
    "colors = ['red', 'blue', 'orange']\n",
    "fruits = ['orange', 'grapes', 'apples']\n",
    "\n",
    "# Create sets from the lists\n",
    "colors_set = set(colors)\n",
    "fruits_set = set(fruits)\n",
    "\n",
    "# Find the elements in fruits_set but not in colors_set\n",
    "fruits_not_colors = fruits_set.difference(colors_set)\n",
    "\n",
    "# Print the result\n",
    "print(\"Fruits that are not colors:\", fruits_not_colors)"
   ]
  },
  {
   "cell_type": "code",
   "execution_count": null,
   "id": "67defa77",
   "metadata": {},
   "outputs": [],
   "source": []
  },
  {
   "cell_type": "markdown",
   "id": "d58fdb02",
   "metadata": {
    "id": "hLZeBta3jNTF"
   },
   "source": [
    "## TUPLES"
   ]
  },
  {
   "cell_type": "markdown",
   "id": "4b6e7a7d",
   "metadata": {
    "id": "Nerhdg66jNTF"
   },
   "source": [
    "### Create temp = [17, ’Virat’, 50.0]"
   ]
  },
  {
   "cell_type": "code",
   "execution_count": 121,
   "id": "c6948bd7",
   "metadata": {},
   "outputs": [],
   "source": [
    "temp = (17, 'Virat', 50.0)"
   ]
  },
  {
   "cell_type": "markdown",
   "id": "78a92219",
   "metadata": {
    "id": "C0IuMJFijNTG"
   },
   "source": [
    "Iterate through temp and print all the items in temp"
   ]
  },
  {
   "cell_type": "code",
   "execution_count": 123,
   "id": "2f37aaec",
   "metadata": {
    "id": "CSKY_cgHjNTG",
    "outputId": "ec834f68-6713-4941-9fc3-dc0e59965222"
   },
   "outputs": [
    {
     "name": "stdout",
     "output_type": "stream",
     "text": [
      "17\n",
      "Virat\n",
      "50.0\n"
     ]
    }
   ],
   "source": [
    "temp = (17, 'Virat', 50.0)\n",
    "\n",
    "# Iterate through temp using a for loop\n",
    "for item in temp:\n",
    "    print(item)\n"
   ]
  },
  {
   "cell_type": "markdown",
   "id": "3a1c54ae",
   "metadata": {
    "id": "gI0kBGQ1jNTG"
   },
   "source": [
    "replace first element with 11 in temp"
   ]
  },
  {
   "cell_type": "code",
   "execution_count": 125,
   "id": "645a7e9c",
   "metadata": {
    "id": "p6JCtyOBjNTG"
   },
   "outputs": [
    {
     "name": "stdout",
     "output_type": "stream",
     "text": [
      "(11, 'Virat', 50.0)\n"
     ]
    }
   ],
   "source": [
    "temp = (17, 'Virat', 50.0)\n",
    "\n",
    "# Create a new tuple with the first element replaced\n",
    "new_temp = (11,) + temp[1:]\n",
    "\n",
    "print(new_temp)"
   ]
  },
  {
   "cell_type": "markdown",
   "id": "bb7e8914",
   "metadata": {
    "id": "JV3b34AdjNTG"
   },
   "source": [
    "Set temp1 = tuple(temp)"
   ]
  },
  {
   "cell_type": "code",
   "execution_count": 127,
   "id": "45155d09",
   "metadata": {},
   "outputs": [
    {
     "name": "stdout",
     "output_type": "stream",
     "text": [
      "(17, 'Virat', 50.0)\n"
     ]
    }
   ],
   "source": [
    "temp = [17, 'Virat', 50.0]\n",
    "temp1 = tuple(temp)\n",
    "\n",
    "print(temp1)"
   ]
  },
  {
   "cell_type": "markdown",
   "id": "d8412cfe",
   "metadata": {
    "id": "Z9LJWgBkjNTG"
   },
   "source": [
    "Iterate through temp1 and print all the items in temp1. "
   ]
  },
  {
   "cell_type": "code",
   "execution_count": 129,
   "id": "45719ff0",
   "metadata": {
    "id": "t0v-FZsNjNTH",
    "outputId": "7f98ae38-8bae-4687-f46b-31fb12ac5c6c"
   },
   "outputs": [
    {
     "name": "stdout",
     "output_type": "stream",
     "text": [
      "17\n",
      "Virat\n",
      "50.0\n"
     ]
    }
   ],
   "source": [
    "\n",
    "temp = [17, 'Virat', 50.0]\n",
    "temp1 = tuple(temp)\n",
    "\n",
    "# Iterate through temp1 using a for loop\n",
    "for item in temp1:\n",
    "    print(item)\n"
   ]
  },
  {
   "cell_type": "markdown",
   "id": "a1bfb40d",
   "metadata": {
    "id": "A4FXMQDfjNTH"
   },
   "source": [
    "replace first element with 17 in temp1"
   ]
  },
  {
   "cell_type": "code",
   "execution_count": 131,
   "id": "d2cb2106",
   "metadata": {
    "id": "eioDSdW8jNTH",
    "outputId": "bf108fa6-bcad-4684-dc24-b9efbfc357a8"
   },
   "outputs": [
    {
     "name": "stdout",
     "output_type": "stream",
     "text": [
      "(7, 'Virat', 50.0)\n"
     ]
    }
   ],
   "source": [
    "\n",
    "temp = [17, 'Virat', 50.0]\n",
    "temp1 = tuple(temp)\n",
    "\n",
    "# Create a new tuple with the first element replaced\n",
    "new_temp1 = (7,) + temp1[1:]\n",
    "\n",
    "print(new_temp1)"
   ]
  },
  {
   "cell_type": "markdown",
   "id": "093dc9a7",
   "metadata": {
    "id": "IuGIObFZjNTH"
   },
   "source": [
    "<b>Oops!! You got an error. Hey Don't worry! Its because Once a tuple is created, you cannot change its values unlike list.</b>"
   ]
  },
  {
   "cell_type": "markdown",
   "id": "36af17e6",
   "metadata": {
    "id": "ExB_cM1ZjNTH"
   },
   "source": [
    "### Create city = (\"Bangalore\", 28.9949521, 72)"
   ]
  },
  {
   "cell_type": "code",
   "execution_count": 133,
   "id": "8d8c3b19",
   "metadata": {
    "id": "fWz52DjjjNTH"
   },
   "outputs": [],
   "source": [
    "city = (\"Bangalore\", 28.9949521, 72)"
   ]
  },
  {
   "cell_type": "markdown",
   "id": "12a0788a",
   "metadata": {
    "id": "v4ipyqXsjNTH"
   },
   "source": [
    "Print first element of city"
   ]
  },
  {
   "cell_type": "code",
   "execution_count": 135,
   "id": "bacb0946",
   "metadata": {
    "id": "KJHMuFk1jNTI",
    "outputId": "f3915b36-1f5b-4ac1-e2bb-a53f9ce142f8"
   },
   "outputs": [
    {
     "name": "stdout",
     "output_type": "stream",
     "text": [
      "Bangalore\n",
      "28.9949521\n",
      "72\n"
     ]
    }
   ],
   "source": [
    "print(city[0])  \n",
    "print(city[1])  \n",
    "print(city[2])  "
   ]
  },
  {
   "cell_type": "markdown",
   "id": "98a32264",
   "metadata": {
    "id": "N5FoHg4ujNTI"
   },
   "source": [
    "Create city2 = (‘Chennai’, 30.01, 74)"
   ]
  },
  {
   "cell_type": "code",
   "execution_count": 143,
   "id": "f86cf0c8",
   "metadata": {
    "id": "fYuGqbDEjNTI"
   },
   "outputs": [
    {
     "name": "stdout",
     "output_type": "stream",
     "text": [
      "Chennai\n",
      "30.01\n",
      "74\n"
     ]
    }
   ],
   "source": [
    "city2 = (\"Chennai\", 30.01, 74)\n",
    "print(city2[0])  \n",
    "print(city2[1])  \n",
    "print(city2[2])  "
   ]
  },
  {
   "cell_type": "markdown",
   "id": "d12247dd",
   "metadata": {
    "id": "0gz-HACUjNTI"
   },
   "source": [
    "Create cities which consist of city and city2"
   ]
  },
  {
   "cell_type": "code",
   "execution_count": 145,
   "id": "2423900f",
   "metadata": {
    "id": "5dTN1LQPjNTI"
   },
   "outputs": [],
   "source": [
    "city = (\"Bangalore\", 28.9949521, 72)\n",
    "city2 = (\"Chennai\", 30.01, 74)\n",
    "\n",
    "cities = (city, city2)\n"
   ]
  },
  {
   "cell_type": "markdown",
   "id": "a9ff78f1",
   "metadata": {
    "id": "He-teRi2jNTI"
   },
   "source": [
    "Print cities"
   ]
  },
  {
   "cell_type": "code",
   "execution_count": 155,
   "id": "adb5ed78",
   "metadata": {
    "id": "ISySNfxGjNTI",
    "outputId": "bee231a2-a635-496f-b5b7-57795a0fd7ab"
   },
   "outputs": [
    {
     "name": "stdout",
     "output_type": "stream",
     "text": [
      "(('Bangalore', 28.9949521, 72), ('Chennai', 30.01, 74))\n"
     ]
    }
   ],
   "source": [
    "city = (\"Bangalore\", 28.9949521, 72)\n",
    "city2 =  (\"Chennai\", 30.01, 74)\n",
    "\n",
    "cities = (city, city2)\n",
    "\n",
    "print(cities)"
   ]
  },
  {
   "cell_type": "markdown",
   "id": "5449acd6",
   "metadata": {
    "id": "brFx6-rtjNTJ"
   },
   "source": [
    "Print type of first element in cities"
   ]
  },
  {
   "cell_type": "code",
   "execution_count": 163,
   "id": "8848ee31",
   "metadata": {
    "id": "CmIifGybjNTJ",
    "outputId": "085cb498-1027-4ce6-8803-904d39050a97"
   },
   "outputs": [
    {
     "name": "stdout",
     "output_type": "stream",
     "text": [
      "<class 'str'>\n",
      "<class 'float'>\n",
      "<class 'int'>\n"
     ]
    }
   ],
   "source": [
    "city = (\"Bangalore\", 28.9949521, 72)\n",
    "city2 =(\"Chennai\", 30.01, 74)\n",
    "\n",
    "cities = (city, city2)\n",
    "print(type(cities[0][0]))  \n",
    "print(type(cities[0][1]))  \n",
    "print(type(cities[0][2]))  \n"
   ]
  },
  {
   "cell_type": "markdown",
   "id": "f87ed27f",
   "metadata": {
    "id": "jtk8J_yHjNTJ"
   },
   "source": [
    "print the type of cities\n"
   ]
  },
  {
   "cell_type": "code",
   "execution_count": 161,
   "id": "28fa42d5",
   "metadata": {
    "id": "y9rdG29XjNTJ",
    "outputId": "2d1e34cb-5b76-44b4-e806-9287ee31fa87"
   },
   "outputs": [
    {
     "name": "stdout",
     "output_type": "stream",
     "text": [
      "<class 'tuple'>\n"
     ]
    }
   ],
   "source": [
    "city = (\"Bangalore\", 28.9949521, 72)\n",
    "city2 =(\"Chennai\", 30.01, 74)\n",
    "\n",
    "cities = (city, city2)\n",
    "\n",
    "print(type(cities[0]))"
   ]
  },
  {
   "cell_type": "markdown",
   "id": "ccfea332",
   "metadata": {
    "id": "uXHSadWqjNTJ"
   },
   "source": [
    "Hey that implies you made a nested tuples!!"
   ]
  },
  {
   "cell_type": "markdown",
   "id": "898a801a",
   "metadata": {
    "id": "zViY-S_djNTJ"
   },
   "source": [
    "## DICTIONARY"
   ]
  },
  {
   "cell_type": "markdown",
   "id": "9e5886df",
   "metadata": {
    "id": "4NjUxRaZjNTK"
   },
   "source": [
    "### Create a dictionary d = {\"actor\":\"amir\",\"animal\":\"cat\",\"earth\":2,\"list\":[23,32,12]}"
   ]
  },
  {
   "cell_type": "code",
   "execution_count": 165,
   "id": "5bc6321d",
   "metadata": {
    "id": "UCtEFPI4jNTK"
   },
   "outputs": [],
   "source": [
    "d = {\"actor\": \"amir\", \"animal\": \"cat\", \"earth\": 2, \"list\": [23, 32, 12]}"
   ]
  },
  {
   "cell_type": "markdown",
   "id": "6e98c348",
   "metadata": {
    "id": "OamenDk8jNTK"
   },
   "source": [
    "Print the value of d[0]"
   ]
  },
  {
   "cell_type": "code",
   "execution_count": 171,
   "id": "1f50e438",
   "metadata": {
    "id": "gion3awcjNTK",
    "outputId": "59a88b33-f80a-4448-8c92-262c242ca689"
   },
   "outputs": [
    {
     "name": "stdout",
     "output_type": "stream",
     "text": [
      "{'actor': 'amir', 'animal': 'cat', 'earth': 2, 'list': [23, 32, 12]}\n"
     ]
    }
   ],
   "source": [
    "print (d)"
   ]
  },
  {
   "cell_type": "markdown",
   "id": "e7823e93",
   "metadata": {
    "id": "XYtrrUigjNTK"
   },
   "source": [
    "<b>Oops!! again an error. again a fun fact. Dictionary return the value for key if key is in the dictionary, else throws KeyError\n",
    "and we don't have key 0 here :( </b>"
   ]
  },
  {
   "cell_type": "markdown",
   "id": "76b45bb6",
   "metadata": {
    "id": "62VXYnw1jNTK"
   },
   "source": [
    "Store the value of d[‘actor’] to a new variable actor."
   ]
  },
  {
   "cell_type": "code",
   "execution_count": 173,
   "id": "cee9d7fd",
   "metadata": {
    "id": "kkBfNz81jNTK"
   },
   "outputs": [
    {
     "name": "stdout",
     "output_type": "stream",
     "text": [
      "Salman\n"
     ]
    }
   ],
   "source": [
    "d = {\"actor\": \"Salman\", \"animal\": \"cat\", \"list\": [23, 32, 12], \"city\": \"Mumbai\"}\n",
    "actor = d['actor']\n",
    "print(actor)  \n"
   ]
  },
  {
   "cell_type": "markdown",
   "id": "d07579fe",
   "metadata": {
    "id": "uFfuF569jNTL"
   },
   "source": [
    "Print the type of actor"
   ]
  },
  {
   "cell_type": "code",
   "execution_count": 175,
   "id": "3200f0c7",
   "metadata": {
    "id": "bKbFXBxyjNTL",
    "outputId": "ec200684-a8ac-403e-9aea-ca06a015a12e"
   },
   "outputs": [
    {
     "data": {
      "text/plain": [
       "str"
      ]
     },
     "execution_count": 175,
     "metadata": {},
     "output_type": "execute_result"
    }
   ],
   "source": [
    "type('actor')"
   ]
  },
  {
   "cell_type": "markdown",
   "id": "7c811f8a",
   "metadata": {
    "id": "y549qN04jNTL"
   },
   "source": [
    "Store the value of d[‘list’] in new variable List. "
   ]
  },
  {
   "cell_type": "code",
   "execution_count": null,
   "id": "a8366597",
   "metadata": {
    "id": "I7GyOK8DjNTL"
   },
   "outputs": [],
   "source": [
    "d = {\"actor\": \"Salman\", \"animal\": \"cat\", \"list\": [20,30,40], \"city\": \"Mumbai\"}\n",
    "    "
   ]
  },
  {
   "cell_type": "markdown",
   "id": "cc54fd41",
   "metadata": {
    "id": "Ul1YMiuNjNTL"
   },
   "source": [
    "Print the type of List. "
   ]
  },
  {
   "cell_type": "code",
   "execution_count": 177,
   "id": "0e745117",
   "metadata": {
    "id": "V0VdG9y_jNTL",
    "outputId": "ca19430d-bd1d-456a-cb91-c156f73fe9b1"
   },
   "outputs": [
    {
     "data": {
      "text/plain": [
       "str"
      ]
     },
     "execution_count": 177,
     "metadata": {},
     "output_type": "execute_result"
    }
   ],
   "source": [
    "d = {\"actor\": \"Salman\", \"animal\": \"cat\", \"list\": [20,30,40], \"city\": \"Mumbai\"}\n",
    "type (\"list\")"
   ]
  },
  {
   "cell_type": "markdown",
   "id": "f8a55364",
   "metadata": {
    "id": "A0CEMABhjNTL"
   },
   "source": [
    "Create d1 = { ‘singer’ : ‘Kr$na’ , ‘album’: ‘Still here’, ‘genre’ : ‘hip-hop’}"
   ]
  },
  {
   "cell_type": "code",
   "execution_count": null,
   "id": "4498b576",
   "metadata": {
    "id": "FCGCw5FEjNTL"
   },
   "outputs": [],
   "source": [
    " d1 = { ‘singer’ : ‘Kr$na’ , ‘album’: ‘Still here’, ‘genre’ : ‘hip-hop’}"
   ]
  },
  {
   "cell_type": "markdown",
   "id": "7f8fa0b6",
   "metadata": {
    "id": "ybGIILrLjNTM"
   },
   "source": [
    "Merge d1 into d."
   ]
  },
  {
   "cell_type": "code",
   "execution_count": 187,
   "id": "bc39d606",
   "metadata": {
    "id": "UmDbbQJPjNTM"
   },
   "outputs": [
    {
     "name": "stdout",
     "output_type": "stream",
     "text": [
      "{'actor': 'Salman', 'animal': 'cat', 'list': [23, 32, 12], 'city': 'Mumbai', 'singer': 'Kr$na', 'album': 'Still here', 'genre': 'hip-hop'}\n"
     ]
    }
   ],
   "source": [
    "d = {\"actor\": \"Salman\", \"animal\": \"cat\", \"list\": [23, 32, 12], \"city\": \"Mumbai\"}\n",
    "d1 = {\"singer\" :\"Kr$na\" , \"album\": \"Still here\", \"genre\" : \"hip-hop\"}\n",
    "\n",
    "d.update(d1)\n",
    "print(d)\n",
    " "
   ]
  },
  {
   "cell_type": "code",
   "execution_count": null,
   "id": "d5a5389a",
   "metadata": {
    "id": "785S26ryjNTM",
    "outputId": "82043717-4c5e-4622-8e11-f13d74dd5cc4"
   },
   "outputs": [],
   "source": []
  },
  {
   "cell_type": "markdown",
   "id": "41ea00e2",
   "metadata": {
    "id": "9E852mY2jNTM"
   },
   "source": [
    "Print all the keys in d"
   ]
  },
  {
   "cell_type": "code",
   "execution_count": 189,
   "id": "4d5b446a",
   "metadata": {
    "id": "7K843OrLjNTM",
    "outputId": "4336a57d-eabe-47a7-d910-82c5c8614754"
   },
   "outputs": [
    {
     "name": "stdout",
     "output_type": "stream",
     "text": [
      "dict_keys(['actor', 'animal', 'list', 'city', 'country', 'sport'])\n"
     ]
    }
   ],
   "source": [
    "d = {'actor': 'Salman', 'animal': 'cat', 'list': [23, 32, 12], 'city': 'Mumbai', 'country': 'India', 'sport': 'Cricket'}\n",
    "\n",
    "print(d.keys())"
   ]
  },
  {
   "cell_type": "markdown",
   "id": "e5cda6bc",
   "metadata": {
    "id": "fiuzxbGkjNTN"
   },
   "source": [
    "Print all the values in d"
   ]
  },
  {
   "cell_type": "code",
   "execution_count": null,
   "id": "6844a41c",
   "metadata": {
    "id": "Pyhh6r0pjNTN",
    "outputId": "8d13b380-1e1f-418c-84e6-ac0638a056e2"
   },
   "outputs": [],
   "source": []
  },
  {
   "cell_type": "markdown",
   "id": "b5a52052",
   "metadata": {
    "id": "XSoe8GWmjNTN"
   },
   "source": [
    "Iterate over d, and print each key, value pair as this - (actor ----> amir)"
   ]
  },
  {
   "cell_type": "code",
   "execution_count": null,
   "id": "d9ba69c5",
   "metadata": {
    "id": "O0iW9kiqjNTO",
    "outputId": "d9ab5c07-3de4-4939-dd9e-d6ff75c9aa07"
   },
   "outputs": [],
   "source": []
  },
  {
   "cell_type": "markdown",
   "id": "10d40ccb",
   "metadata": {
    "id": "Hhzm-EIsjNTO"
   },
   "source": [
    "count the number of occurences of charachters in string named \"sent\" using dictionary and print the same.\n"
   ]
  },
  {
   "cell_type": "code",
   "execution_count": null,
   "id": "03f67c49",
   "metadata": {
    "id": "IvRlvUAljNTP",
    "outputId": "40f08e65-b884-4b00-aaf4-2cacd1083752"
   },
   "outputs": [],
   "source": [
    "\n",
    "\n"
   ]
  },
  {
   "cell_type": "code",
   "execution_count": null,
   "id": "c1174c71",
   "metadata": {
    "id": "ebNwyxUujNTP"
   },
   "outputs": [],
   "source": []
  }
 ],
 "metadata": {
  "colab": {
   "collapsed_sections": [],
   "provenance": []
  },
  "kernelspec": {
   "display_name": "Python 3 (ipykernel)",
   "language": "python",
   "name": "python3"
  },
  "language_info": {
   "codemirror_mode": {
    "name": "ipython",
    "version": 3
   },
   "file_extension": ".py",
   "mimetype": "text/x-python",
   "name": "python",
   "nbconvert_exporter": "python",
   "pygments_lexer": "ipython3",
   "version": "3.12.3"
  }
 },
 "nbformat": 4,
 "nbformat_minor": 5
}
